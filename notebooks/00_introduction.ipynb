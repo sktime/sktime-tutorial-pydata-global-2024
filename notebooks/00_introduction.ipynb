{
 "cells": [
  {
   "cell_type": "markdown",
   "metadata": {},
   "source": [
    "<img src=\"./img/sktime-logo-text-horizontal.jpg\" alt=\"sktime logo\" style=\"width: 100%; max-width: 600px;\">\n",
    "\n",
    "<span style=\"font-size: 5em;\"> `skchange` </span>"
   ]
  },
  {
   "cell_type": "markdown",
   "metadata": {},
   "source": [
    "### Agenda for today\n",
    "\n",
    "1. **general introduction** to `skchange` & `sktime`\n",
    "\n",
    "2. **detection**\n",
    "\n",
    "    * change detection and segmentation\n",
    "    * segment anomaly detection\n",
    "    * detector API\n",
    "    * algorithm framework\n",
    "    * costs and scores\n",
    "\n",
    "3. **use cases**\n",
    "\n",
    "    * failure detection - HVAC\n",
    "    * health monitoring - type 1 diabetes meal detection\n",
    "    * open challenge - contribute!"
   ]
  },
  {
   "cell_type": "markdown",
   "metadata": {},
   "source": [
    "### Running the notebooks"
   ]
  },
  {
   "cell_type": "markdown",
   "metadata": {},
   "source": [
    "all notebooks available on [github.com/sktime](https://github.com/sktime) \n",
    "\n",
    "repository: [github.com/sktime/sktime-tutorial-pydata-global-2024](https://github.com/sktime/sktime-tutorial-pydata-global-2024)\n",
    "\n",
    "* README instructions to run notebooks locally\n",
    "* binder to run notebooks in the cloud (if wifi allows)"
   ]
  },
  {
   "cell_type": "markdown",
   "metadata": {},
   "source": [
    "## 1 - Introduction to `sktime` and `skchange`\n",
    "\n",
    "### 1.1 What is `sktime`? What is `skchange`?\n",
    "\n",
    "- `sktime` is a python library for time series learning tasks!\n",
    "  - check [our website](https://www.sktime.net/en/latest/index.html)! \n",
    "  - integrative framework layer in the time series space via `scikit-base`\n",
    "\n",
    "  **Easy to integrate with 2nd party libraries!**\n",
    "\n",
    "  `skchange` - unified API for composable detection algorithms\n",
    "  - check [the website](https://skchange.readthedocs.io/)!"
   ]
  },
  {
   "cell_type": "markdown",
   "metadata": {},
   "source": [
    "- `sklearn` / `sktime` interface:\n",
    "  - unified interface for objects/estimators\n",
    "  - modular design, strategy pattern\n",
    "  - composable, composites are interface homogeneous\n",
    "  - simple specification language and parameter interface\n",
    "  - visually informative pretty printing"
   ]
  },
  {
   "cell_type": "markdown",
   "metadata": {},
   "source": [
    "- `sktime` is a vibrant, welcoming community with mentoring opportunities!\n",
    "  - We *love* new contributors. Even if you are new to open source software development!\n",
    "  - Check out the ``sktime`` [new contributors guide](https://www.sktime.net/en/latest/get_involved/contributing.html)\n",
    "  - join our [discord](https://discord.com/invite/54ACzaFsn7) and/or one of our regular meetups!\n",
    "  - follow us on [LinkedIn](https://www.linkedin.com/company/scikit-time/)!"
   ]
  },
  {
   "cell_type": "markdown",
   "metadata": {},
   "source": [
    "### 1.2 `sklearn` unified interface - the strategy pattern\n",
    "\n",
    "`sklearn` provides a unified interface to multiple learning tasks including classification, regression.\n",
    "\n",
    "any (supervised) estimator has the following interface points\n",
    "\n",
    "1. **Instantiate** your model of choice, with parameter settings\n",
    "2. **Fit** the instance of your model\n",
    "3. Use that fitted instance to **predict** new data!\n",
    "\n",
    "<img src=\"./img/estimator-conceptual-model.jpg\" alt=\"Estimator conceptual model\" style=\"width: 100%; max-width: 1200px;\">"
   ]
  },
  {
   "cell_type": "code",
   "execution_count": 1,
   "metadata": {},
   "outputs": [],
   "source": [
    "import warnings\n",
    "\n",
    "warnings.filterwarnings(\"ignore\")"
   ]
  },
  {
   "cell_type": "code",
   "execution_count": 2,
   "metadata": {},
   "outputs": [],
   "source": [
    "# get data to use the model on\n",
    "from sklearn.datasets import load_iris\n",
    "from sklearn.model_selection import train_test_split\n",
    "\n",
    "X, y = load_iris(return_X_y=True, as_frame=True)\n",
    "X_train, X_test, y_train, y_test = train_test_split(X, y)"
   ]
  },
  {
   "cell_type": "code",
   "execution_count": 3,
   "metadata": {},
   "outputs": [
    {
     "data": {
      "text/html": [
       "<div>\n",
       "<style scoped>\n",
       "    .dataframe tbody tr th:only-of-type {\n",
       "        vertical-align: middle;\n",
       "    }\n",
       "\n",
       "    .dataframe tbody tr th {\n",
       "        vertical-align: top;\n",
       "    }\n",
       "\n",
       "    .dataframe thead th {\n",
       "        text-align: right;\n",
       "    }\n",
       "</style>\n",
       "<table border=\"1\" class=\"dataframe\">\n",
       "  <thead>\n",
       "    <tr style=\"text-align: right;\">\n",
       "      <th></th>\n",
       "      <th>sepal length (cm)</th>\n",
       "      <th>sepal width (cm)</th>\n",
       "      <th>petal length (cm)</th>\n",
       "      <th>petal width (cm)</th>\n",
       "    </tr>\n",
       "  </thead>\n",
       "  <tbody>\n",
       "    <tr>\n",
       "      <th>108</th>\n",
       "      <td>6.7</td>\n",
       "      <td>2.5</td>\n",
       "      <td>5.8</td>\n",
       "      <td>1.8</td>\n",
       "    </tr>\n",
       "    <tr>\n",
       "      <th>53</th>\n",
       "      <td>5.5</td>\n",
       "      <td>2.3</td>\n",
       "      <td>4.0</td>\n",
       "      <td>1.3</td>\n",
       "    </tr>\n",
       "    <tr>\n",
       "      <th>120</th>\n",
       "      <td>6.9</td>\n",
       "      <td>3.2</td>\n",
       "      <td>5.7</td>\n",
       "      <td>2.3</td>\n",
       "    </tr>\n",
       "    <tr>\n",
       "      <th>43</th>\n",
       "      <td>5.0</td>\n",
       "      <td>3.5</td>\n",
       "      <td>1.6</td>\n",
       "      <td>0.6</td>\n",
       "    </tr>\n",
       "    <tr>\n",
       "      <th>148</th>\n",
       "      <td>6.2</td>\n",
       "      <td>3.4</td>\n",
       "      <td>5.4</td>\n",
       "      <td>2.3</td>\n",
       "    </tr>\n",
       "  </tbody>\n",
       "</table>\n",
       "</div>"
      ],
      "text/plain": [
       "     sepal length (cm)  sepal width (cm)  petal length (cm)  petal width (cm)\n",
       "108                6.7               2.5                5.8               1.8\n",
       "53                 5.5               2.3                4.0               1.3\n",
       "120                6.9               3.2                5.7               2.3\n",
       "43                 5.0               3.5                1.6               0.6\n",
       "148                6.2               3.4                5.4               2.3"
      ]
     },
     "execution_count": 3,
     "metadata": {},
     "output_type": "execute_result"
    }
   ],
   "source": [
    "X_train.head()"
   ]
  },
  {
   "cell_type": "code",
   "execution_count": 4,
   "metadata": {},
   "outputs": [
    {
     "data": {
      "text/plain": [
       "108    2\n",
       "53     1\n",
       "120    2\n",
       "43     0\n",
       "148    2\n",
       "Name: target, dtype: int64"
      ]
     },
     "execution_count": 4,
     "metadata": {},
     "output_type": "execute_result"
    }
   ],
   "source": [
    "y_train.head()"
   ]
  },
  {
   "cell_type": "code",
   "execution_count": 5,
   "metadata": {},
   "outputs": [
    {
     "data": {
      "text/html": [
       "<div>\n",
       "<style scoped>\n",
       "    .dataframe tbody tr th:only-of-type {\n",
       "        vertical-align: middle;\n",
       "    }\n",
       "\n",
       "    .dataframe tbody tr th {\n",
       "        vertical-align: top;\n",
       "    }\n",
       "\n",
       "    .dataframe thead th {\n",
       "        text-align: right;\n",
       "    }\n",
       "</style>\n",
       "<table border=\"1\" class=\"dataframe\">\n",
       "  <thead>\n",
       "    <tr style=\"text-align: right;\">\n",
       "      <th></th>\n",
       "      <th>sepal length (cm)</th>\n",
       "      <th>sepal width (cm)</th>\n",
       "      <th>petal length (cm)</th>\n",
       "      <th>petal width (cm)</th>\n",
       "    </tr>\n",
       "  </thead>\n",
       "  <tbody>\n",
       "    <tr>\n",
       "      <th>78</th>\n",
       "      <td>6.0</td>\n",
       "      <td>2.9</td>\n",
       "      <td>4.5</td>\n",
       "      <td>1.5</td>\n",
       "    </tr>\n",
       "    <tr>\n",
       "      <th>133</th>\n",
       "      <td>6.3</td>\n",
       "      <td>2.8</td>\n",
       "      <td>5.1</td>\n",
       "      <td>1.5</td>\n",
       "    </tr>\n",
       "    <tr>\n",
       "      <th>52</th>\n",
       "      <td>6.9</td>\n",
       "      <td>3.1</td>\n",
       "      <td>4.9</td>\n",
       "      <td>1.5</td>\n",
       "    </tr>\n",
       "    <tr>\n",
       "      <th>117</th>\n",
       "      <td>7.7</td>\n",
       "      <td>3.8</td>\n",
       "      <td>6.7</td>\n",
       "      <td>2.2</td>\n",
       "    </tr>\n",
       "    <tr>\n",
       "      <th>16</th>\n",
       "      <td>5.4</td>\n",
       "      <td>3.9</td>\n",
       "      <td>1.3</td>\n",
       "      <td>0.4</td>\n",
       "    </tr>\n",
       "  </tbody>\n",
       "</table>\n",
       "</div>"
      ],
      "text/plain": [
       "     sepal length (cm)  sepal width (cm)  petal length (cm)  petal width (cm)\n",
       "78                 6.0               2.9                4.5               1.5\n",
       "133                6.3               2.8                5.1               1.5\n",
       "52                 6.9               3.1                4.9               1.5\n",
       "117                7.7               3.8                6.7               2.2\n",
       "16                 5.4               3.9                1.3               0.4"
      ]
     },
     "execution_count": 5,
     "metadata": {},
     "output_type": "execute_result"
    }
   ],
   "source": [
    "X_test.head()"
   ]
  },
  {
   "cell_type": "code",
   "execution_count": 6,
   "metadata": {},
   "outputs": [
    {
     "data": {
      "text/plain": [
       "array([1, 2, 1, 2, 0, 1, 0, 0, 1, 0, 1, 0, 1, 2, 1, 1, 2, 0, 2, 1, 2, 1,\n",
       "       2, 1, 0, 2, 2, 2, 2, 1, 0, 2, 2, 2, 2, 2, 1, 1])"
      ]
     },
     "execution_count": 6,
     "metadata": {},
     "output_type": "execute_result"
    }
   ],
   "source": [
    "from sklearn.svm import SVC\n",
    "\n",
    "# 1. Instantiate SVC with parameters gamma, C\n",
    "clf = SVC(gamma=0.001, C=100.0)\n",
    "\n",
    "# 2. Fit clf to training data\n",
    "clf.fit(X_train, y_train)\n",
    "\n",
    "# 3. Predict labels on test data\n",
    "y_test_pred = clf.predict(X_test)\n",
    "\n",
    "y_test_pred"
   ]
  },
  {
   "cell_type": "markdown",
   "metadata": {},
   "source": [
    "IMPORTANT: to use another classifier, only the specification line, part 1 changes!\n",
    "\n",
    "`SVC` could have been `RandomForest`, steps 2 and 3 remain the same - unified interface:"
   ]
  },
  {
   "cell_type": "code",
   "execution_count": 7,
   "metadata": {},
   "outputs": [
    {
     "data": {
      "text/plain": [
       "array([1, 1, 1, 2, 0, 1, 0, 0, 1, 0, 1, 0, 1, 2, 1, 1, 2, 0, 2, 1, 2, 1,\n",
       "       2, 1, 0, 2, 2, 2, 2, 1, 0, 2, 2, 2, 2, 2, 2, 1])"
      ]
     },
     "execution_count": 7,
     "metadata": {},
     "output_type": "execute_result"
    }
   ],
   "source": [
    "from sklearn.ensemble import RandomForestClassifier\n",
    "\n",
    "# 1. Instantiate RandomForest with parameters n_estimators\n",
    "clf = RandomForestClassifier(n_estimators=100)\n",
    "\n",
    "# 2. Fit clf to training data\n",
    "clf.fit(X_train, y_train)\n",
    "\n",
    "# 3. Predict labels on test data\n",
    "y_test_pred = clf.predict(X_test)\n",
    "\n",
    "y_test_pred"
   ]
  },
  {
   "cell_type": "markdown",
   "metadata": {},
   "source": [
    "in object oriented design terminology, this is called **\"strategy pattern\"**\n",
    "\n",
    "= different estimators can be switched out without change to the interface\n",
    "\n",
    "= like a power plug adapter, it's plug&play if it conforms with the interface\n",
    "\n",
    "Pictorial summary:\n",
    "\n",
    "<img src=\"./img/sklearn-unified-interface.jpg\" alt=\"Unified estimator interface\" style=\"width: 100%; max-width: 1200px;\">"
   ]
  },
  {
   "cell_type": "markdown",
   "metadata": {},
   "source": [
    "parameters can be accessed and set via `get_params`, `set_params`:"
   ]
  },
  {
   "cell_type": "code",
   "execution_count": 8,
   "metadata": {},
   "outputs": [
    {
     "data": {
      "text/plain": [
       "{'bootstrap': True,\n",
       " 'ccp_alpha': 0.0,\n",
       " 'class_weight': None,\n",
       " 'criterion': 'gini',\n",
       " 'max_depth': None,\n",
       " 'max_features': 'sqrt',\n",
       " 'max_leaf_nodes': None,\n",
       " 'max_samples': None,\n",
       " 'min_impurity_decrease': 0.0,\n",
       " 'min_samples_leaf': 1,\n",
       " 'min_samples_split': 2,\n",
       " 'min_weight_fraction_leaf': 0.0,\n",
       " 'monotonic_cst': None,\n",
       " 'n_estimators': 100,\n",
       " 'n_jobs': None,\n",
       " 'oob_score': False,\n",
       " 'random_state': None,\n",
       " 'verbose': 0,\n",
       " 'warm_start': False}"
      ]
     },
     "execution_count": 8,
     "metadata": {},
     "output_type": "execute_result"
    }
   ],
   "source": [
    "clf.get_params()"
   ]
  },
  {
   "cell_type": "markdown",
   "metadata": {},
   "source": [
    "### 1.3 `sktime` is devoted to time-series data analysis\n",
    "\n",
    "Richer space of time series tasks, compared to \"tabular\":\n",
    "\n",
    "- **Forecasting** - predict energy consumption tomorrow, based on past weeks\n",
    "- **Classification** - classify electrocardiograms to healthy/sick, based on prior examples\n",
    "- **Regression** - predict compound purity in bioreactor based on temperature/pressure profile\n",
    "- **Clustering** - sort outlines of tree leaves into a small number of similar classes\n",
    "- **Anomaly & changepoint detection, segmentation** - identify jumps, anomalies, events in a data stream"
   ]
  },
  {
   "cell_type": "markdown",
   "metadata": {},
   "source": [
    "`sktime` aims to provide `sklearn`-like, modular, composable, interfaces for these!"
   ]
  },
  {
   "cell_type": "markdown",
   "metadata": {},
   "source": [
    "| Task | Status | Links |\n",
    "|---|---|---|\n",
    "| **Forecasting** | stable | [Tutorial](https://www.sktime.net/en/latest/examples/01_forecasting.html) · [API Reference](https://www.sktime.net/en/latest/api_reference/forecasting.html) · [Extension Template](https://github.com/sktime/sktime/blob/main/extension_templates/forecasting.py)  |\n",
    "| **Time Series Classification** | stable | [Tutorial](https://github.com/sktime/sktime/blob/main/examples/02_classification.ipynb) · [API Reference](https://www.sktime.net/en/latest/api_reference/classification.html) · [Extension Template](https://github.com/sktime/sktime/blob/main/extension_templates/classification.py) |\n",
    "| **Time Series Regression** | stable | [Tutorial](https://github.com/sktime/sktime/blob/main/examples/02_classification.ipynb) · [API Reference](https://www.sktime.net/en/latest/api_reference/regression.html) |\n",
    "| **Transformations** | stable | [Tutorial](https://github.com/sktime/sktime/blob/main/examples/03_transformers.ipynb) · [API Reference](https://www.sktime.net/en/latest/api_reference/transformations.html) · [Extension Template](https://github.com/sktime/sktime/blob/main/extension_templates/transformer.py)  |\n",
    "| **Performance metrics for forecasts** | stable | [API Reference](https://www.sktime.net/en/latest/api_reference/performance_metrics.html) |\n",
    "| **Time series splitting/resampling** | stable | [API Reference](https://www.sktime.net/en/latest/api_reference/split.html) |\n",
    "| **Parameter fitting** | maturing | [API Reference](https://www.sktime.net/en/latest/api_reference/param_est.html) · [Extension Template](https://github.com/sktime/sktime/blob/main/extension_templates/transformer.py)  |\n",
    "| **Time Series Alignment** | maturing | [API Reference](https://www.sktime.net/en/latest/api_reference/alignment.html) ·  [Extension Template](https://github.com/sktime/sktime/blob/main/extension_templates/alignment.py) |\n",
    "| **Time Series Clustering** | maturing | [API Reference](https://www.sktime.net/en/latest/api_reference/clustering.html) ·  [Extension Template](https://github.com/sktime/sktime/blob/main/extension_templates/clustering.py) |\n",
    "| **Time Series Distances/Kernels** | maturing | [Tutorial](https://github.com/sktime/sktime/blob/main/examples/03_transformers.ipynb) · [API Reference](https://www.sktime.net/en/latest/api_reference/dists_kernels.html) · [Extension Template](https://github.com/sktime/sktime/blob/main/extension_templates/dist_kern_panel.py) |\n",
    "| **Anomalies, changepoints** (with [`skchange`](https://github.com/NorskRegnesentral/skchange)) | experimental | [Extension Template](https://github.com/sktime/sktime/blob/main/extension_templates/annotation.py) |"
   ]
  },
  {
   "cell_type": "markdown",
   "metadata": {},
   "source": [
    "\n",
    "In the [skpro](https://github.com/sktime/skpro) companion package:\n",
    "\n",
    "| Module | Status | Links |\n",
    "|---|---|---|\n",
    "| **Probabilistic tabular regression** | maturing | [Tutorial](https://github.com/sktime/skpro/blob/main/examples/01_skpro_intro.ipynb) · [API Reference](https://skpro.readthedocs.io/en/latest/api_reference/regression.html) · [Extension Template](https://github.com/sktime/skpro/blob/main/extension_templates/regression.py) |\n",
    "| **Time-to-event (survival) prediction** | maturing |  [Tutorial](https://github.com/sktime/skpro/blob/main/examples/02_skpro_survival.ipynb) · [API Reference](https://skpro.readthedocs.io/en/latest/api_reference/survival.html) · [Extension Template](https://github.com/sktime/skpro/blob/main/extension_templates/survival.py) |\n",
    "| **Performance metrics for proba predictions** | maturing | [API Reference](https://skpro.readthedocs.io/en/latest/api_reference/metrics.html) |\n",
    "| **Probability distributions** | maturing | [Tutorial](https://github.com/sktime/skpro/blob/main/examples/03_skpro_distributions.ipynb) · [API Reference](https://skpro.readthedocs.io/en/latest/api_reference/distributions.html) · [Extension Template](https://github.com/sktime/skpro/blob/main/extension_templates/distributions.py) |"
   ]
  },
  {
   "cell_type": "markdown",
   "metadata": {},
   "source": [
    "#### Example of change detection\n",
    "**Change detection** - identify points in time series where properties of the data changes.\n",
    "\n",
    "\"Change\" or \"change point\" detection are used interchangeably."
   ]
  },
  {
   "cell_type": "code",
   "execution_count": 9,
   "metadata": {},
   "outputs": [
    {
     "data": {
      "text/plain": [
       "'0.12.0'"
      ]
     },
     "execution_count": 9,
     "metadata": {},
     "output_type": "execute_result"
    }
   ],
   "source": [
    "import skchange\n",
    "\n",
    "skchange.__version__"
   ]
  },
  {
   "cell_type": "code",
   "execution_count": 10,
   "metadata": {},
   "outputs": [
    {
     "data": {
      "application/vnd.plotly.v1+json": {
       "config": {
        "plotlyServerURL": "https://plot.ly"
       },
       "data": [
        {
         "hovertemplate": "variable=var0<br>index=%{x}<br>value=%{y}<extra></extra>",
         "legendgroup": "",
         "line": {
          "color": "#636efa",
          "dash": "solid"
         },
         "marker": {
          "symbol": "circle"
         },
         "mode": "lines",
         "name": "",
         "orientation": "v",
         "showlegend": false,
         "type": "scatter",
         "x": {
          "bdata": "AAABAAIAAwAEAAUABgAHAAgACQAKAAsADAANAA4ADwAQABEAEgATABQAFQAWABcAGAAZABoAGwAcAB0AHgAfACAAIQAiACMAJAAlACYAJwAoACkAKgArACwALQAuAC8AMAAxADIAMwA0ADUANgA3ADgAOQA6ADsAPAA9AD4APwBAAEEAQgBDAEQARQBGAEcASABJAEoASwBMAE0ATgBPAFAAUQBSAFMAVABVAFYAVwBYAFkAWgBbAFwAXQBeAF8AYABhAGIAYwBkAGUAZgBnAGgAaQBqAGsAbABtAG4AbwBwAHEAcgBzAHQAdQB2AHcAeAB5AHoAewB8AH0AfgB/AIAAgQCCAIMAhACFAIYAhwCIAIkAigCLAIwAjQCOAI8AkACRAJIAkwCUAJUAlgCXAJgAmQCaAJsAnACdAJ4AnwCgAKEAogCjAKQApQCmAKcAqACpAKoAqwCsAK0ArgCvALAAsQCyALMAtAC1ALYAtwC4ALkAugC7ALwAvQC+AL8AwADBAMIAwwDEAMUAxgDHAMgAyQDKAMsAzADNAM4AzwDQANEA0gDTANQA1QDWANcA2ADZANoA2wDcAN0A3gDfAOAA4QDiAOMA5ADlAOYA5wDoAOkA6gDrAOwA7QDuAO8A8ADxAPIA8wD0APUA9gD3APgA+QD6APsA/AD9AP4A/wAAAQEBAgEDAQQBBQEGAQcBCAEJAQoBCwEMAQ0BDgEPARABEQESARMBFAEVARYBFwEYARkBGgEbARwBHQEeAR8BIAEhASIBIwEkASUBJgEnASgBKQEqASsBLAEtAS4BLwEwATEBMgEzATQBNQE2ATcBOAE5AToBOwE8AT0BPgE/AUABQQFCAUMBRAFFAUYBRwFIAUkBSgFLAUwBTQFOAU8BUAFRAVIBUwFUAVUBVgFXAVgBWQFaAVsBXAFdAV4BXwFgAWEBYgFjAWQBZQFmAWcBaAFpAWoBawFsAW0BbgFvAXABcQFyAXMBdAF1AXYBdwF4AXkBegF7AXwBfQF+AX8BgAGBAYIBgwGEAYUBhgGHAYgBiQGKAYsBjAGNAY4BjwGQAZEBkgGTAZQBlQGWAZcBmAGZAZoBmwGcAZ0BngGfAaABoQGiAaMBpAGlAaYBpwGoAakBqgGrAawBrQGuAa8BsAGxAbIBswG0AbUBtgG3AbgBuQG6AbsBvAG9Ab4BvwHAAcEBwgHDAcQBxQHGAccByAHJAcoBywHMAc0BzgHPAdAB0QHSAdMB1AHVAdYB1wHYAdkB2gHbAdwB3QHeAd8B4AHhAeIB4wHkAeUB5gHnAegB6QHqAesB7AHtAe4B7wHwAfEB8gHzAQ==",
          "dtype": "i2"
         },
         "xaxis": "x",
         "y": {
          "bdata": "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",
          "dtype": "f8"
         },
         "yaxis": "y"
        }
       ],
       "layout": {
        "annotations": [
         {
          "showarrow": false,
          "text": "variable=var0",
          "textangle": 90,
          "x": 0.98,
          "xanchor": "left",
          "xref": "paper",
          "y": 0.5,
          "yanchor": "middle",
          "yref": "paper"
         }
        ],
        "legend": {
         "tracegroupgap": 0
        },
        "margin": {
         "t": 60
        },
        "shapes": [
         {
          "line": {
           "color": "red",
           "dash": "dash"
          },
          "type": "line",
          "x0": 50,
          "x1": 50,
          "xref": "x",
          "y0": 0,
          "y1": 1,
          "yref": "y domain"
         },
         {
          "line": {
           "color": "red",
           "dash": "dash"
          },
          "type": "line",
          "x0": 100,
          "x1": 100,
          "xref": "x",
          "y0": 0,
          "y1": 1,
          "yref": "y domain"
         },
         {
          "line": {
           "color": "red",
           "dash": "dash"
          },
          "type": "line",
          "x0": 150,
          "x1": 150,
          "xref": "x",
          "y0": 0,
          "y1": 1,
          "yref": "y domain"
         },
         {
          "line": {
           "color": "red",
           "dash": "dash"
          },
          "type": "line",
          "x0": 200,
          "x1": 200,
          "xref": "x",
          "y0": 0,
          "y1": 1,
          "yref": "y domain"
         },
         {
          "line": {
           "color": "red",
           "dash": "dash"
          },
          "type": "line",
          "x0": 250,
          "x1": 250,
          "xref": "x",
          "y0": 0,
          "y1": 1,
          "yref": "y domain"
         },
         {
          "line": {
           "color": "red",
           "dash": "dash"
          },
          "type": "line",
          "x0": 300,
          "x1": 300,
          "xref": "x",
          "y0": 0,
          "y1": 1,
          "yref": "y domain"
         },
         {
          "line": {
           "color": "red",
           "dash": "dash"
          },
          "type": "line",
          "x0": 350,
          "x1": 350,
          "xref": "x",
          "y0": 0,
          "y1": 1,
          "yref": "y domain"
         },
         {
          "line": {
           "color": "red",
           "dash": "dash"
          },
          "type": "line",
          "x0": 400,
          "x1": 400,
          "xref": "x",
          "y0": 0,
          "y1": 1,
          "yref": "y domain"
         },
         {
          "line": {
           "color": "red",
           "dash": "dash"
          },
          "type": "line",
          "x0": 450,
          "x1": 450,
          "xref": "x",
          "y0": 0,
          "y1": 1,
          "yref": "y domain"
         }
        ],
        "showlegend": false,
        "template": {
         "data": {
          "bar": [
           {
            "error_x": {
             "color": "#2a3f5f"
            },
            "error_y": {
             "color": "#2a3f5f"
            },
            "marker": {
             "line": {
              "color": "#E5ECF6",
              "width": 0.5
             },
             "pattern": {
              "fillmode": "overlay",
              "size": 10,
              "solidity": 0.2
             }
            },
            "type": "bar"
           }
          ],
          "barpolar": [
           {
            "marker": {
             "line": {
              "color": "#E5ECF6",
              "width": 0.5
             },
             "pattern": {
              "fillmode": "overlay",
              "size": 10,
              "solidity": 0.2
             }
            },
            "type": "barpolar"
           }
          ],
          "carpet": [
           {
            "aaxis": {
             "endlinecolor": "#2a3f5f",
             "gridcolor": "white",
             "linecolor": "white",
             "minorgridcolor": "white",
             "startlinecolor": "#2a3f5f"
            },
            "baxis": {
             "endlinecolor": "#2a3f5f",
             "gridcolor": "white",
             "linecolor": "white",
             "minorgridcolor": "white",
             "startlinecolor": "#2a3f5f"
            },
            "type": "carpet"
           }
          ],
          "choropleth": [
           {
            "colorbar": {
             "outlinewidth": 0,
             "ticks": ""
            },
            "type": "choropleth"
           }
          ],
          "contour": [
           {
            "colorbar": {
             "outlinewidth": 0,
             "ticks": ""
            },
            "colorscale": [
             [
              0,
              "#0d0887"
             ],
             [
              0.1111111111111111,
              "#46039f"
             ],
             [
              0.2222222222222222,
              "#7201a8"
             ],
             [
              0.3333333333333333,
              "#9c179e"
             ],
             [
              0.4444444444444444,
              "#bd3786"
             ],
             [
              0.5555555555555556,
              "#d8576b"
             ],
             [
              0.6666666666666666,
              "#ed7953"
             ],
             [
              0.7777777777777778,
              "#fb9f3a"
             ],
             [
              0.8888888888888888,
              "#fdca26"
             ],
             [
              1,
              "#f0f921"
             ]
            ],
            "type": "contour"
           }
          ],
          "contourcarpet": [
           {
            "colorbar": {
             "outlinewidth": 0,
             "ticks": ""
            },
            "type": "contourcarpet"
           }
          ],
          "heatmap": [
           {
            "colorbar": {
             "outlinewidth": 0,
             "ticks": ""
            },
            "colorscale": [
             [
              0,
              "#0d0887"
             ],
             [
              0.1111111111111111,
              "#46039f"
             ],
             [
              0.2222222222222222,
              "#7201a8"
             ],
             [
              0.3333333333333333,
              "#9c179e"
             ],
             [
              0.4444444444444444,
              "#bd3786"
             ],
             [
              0.5555555555555556,
              "#d8576b"
             ],
             [
              0.6666666666666666,
              "#ed7953"
             ],
             [
              0.7777777777777778,
              "#fb9f3a"
             ],
             [
              0.8888888888888888,
              "#fdca26"
             ],
             [
              1,
              "#f0f921"
             ]
            ],
            "type": "heatmap"
           }
          ],
          "histogram": [
           {
            "marker": {
             "pattern": {
              "fillmode": "overlay",
              "size": 10,
              "solidity": 0.2
             }
            },
            "type": "histogram"
           }
          ],
          "histogram2d": [
           {
            "colorbar": {
             "outlinewidth": 0,
             "ticks": ""
            },
            "colorscale": [
             [
              0,
              "#0d0887"
             ],
             [
              0.1111111111111111,
              "#46039f"
             ],
             [
              0.2222222222222222,
              "#7201a8"
             ],
             [
              0.3333333333333333,
              "#9c179e"
             ],
             [
              0.4444444444444444,
              "#bd3786"
             ],
             [
              0.5555555555555556,
              "#d8576b"
             ],
             [
              0.6666666666666666,
              "#ed7953"
             ],
             [
              0.7777777777777778,
              "#fb9f3a"
             ],
             [
              0.8888888888888888,
              "#fdca26"
             ],
             [
              1,
              "#f0f921"
             ]
            ],
            "type": "histogram2d"
           }
          ],
          "histogram2dcontour": [
           {
            "colorbar": {
             "outlinewidth": 0,
             "ticks": ""
            },
            "colorscale": [
             [
              0,
              "#0d0887"
             ],
             [
              0.1111111111111111,
              "#46039f"
             ],
             [
              0.2222222222222222,
              "#7201a8"
             ],
             [
              0.3333333333333333,
              "#9c179e"
             ],
             [
              0.4444444444444444,
              "#bd3786"
             ],
             [
              0.5555555555555556,
              "#d8576b"
             ],
             [
              0.6666666666666666,
              "#ed7953"
             ],
             [
              0.7777777777777778,
              "#fb9f3a"
             ],
             [
              0.8888888888888888,
              "#fdca26"
             ],
             [
              1,
              "#f0f921"
             ]
            ],
            "type": "histogram2dcontour"
           }
          ],
          "mesh3d": [
           {
            "colorbar": {
             "outlinewidth": 0,
             "ticks": ""
            },
            "type": "mesh3d"
           }
          ],
          "parcoords": [
           {
            "line": {
             "colorbar": {
              "outlinewidth": 0,
              "ticks": ""
             }
            },
            "type": "parcoords"
           }
          ],
          "pie": [
           {
            "automargin": true,
            "type": "pie"
           }
          ],
          "scatter": [
           {
            "fillpattern": {
             "fillmode": "overlay",
             "size": 10,
             "solidity": 0.2
            },
            "type": "scatter"
           }
          ],
          "scatter3d": [
           {
            "line": {
             "colorbar": {
              "outlinewidth": 0,
              "ticks": ""
             }
            },
            "marker": {
             "colorbar": {
              "outlinewidth": 0,
              "ticks": ""
             }
            },
            "type": "scatter3d"
           }
          ],
          "scattercarpet": [
           {
            "marker": {
             "colorbar": {
              "outlinewidth": 0,
              "ticks": ""
             }
            },
            "type": "scattercarpet"
           }
          ],
          "scattergeo": [
           {
            "marker": {
             "colorbar": {
              "outlinewidth": 0,
              "ticks": ""
             }
            },
            "type": "scattergeo"
           }
          ],
          "scattergl": [
           {
            "marker": {
             "colorbar": {
              "outlinewidth": 0,
              "ticks": ""
             }
            },
            "type": "scattergl"
           }
          ],
          "scattermap": [
           {
            "marker": {
             "colorbar": {
              "outlinewidth": 0,
              "ticks": ""
             }
            },
            "type": "scattermap"
           }
          ],
          "scattermapbox": [
           {
            "marker": {
             "colorbar": {
              "outlinewidth": 0,
              "ticks": ""
             }
            },
            "type": "scattermapbox"
           }
          ],
          "scatterpolar": [
           {
            "marker": {
             "colorbar": {
              "outlinewidth": 0,
              "ticks": ""
             }
            },
            "type": "scatterpolar"
           }
          ],
          "scatterpolargl": [
           {
            "marker": {
             "colorbar": {
              "outlinewidth": 0,
              "ticks": ""
             }
            },
            "type": "scatterpolargl"
           }
          ],
          "scatterternary": [
           {
            "marker": {
             "colorbar": {
              "outlinewidth": 0,
              "ticks": ""
             }
            },
            "type": "scatterternary"
           }
          ],
          "surface": [
           {
            "colorbar": {
             "outlinewidth": 0,
             "ticks": ""
            },
            "colorscale": [
             [
              0,
              "#0d0887"
             ],
             [
              0.1111111111111111,
              "#46039f"
             ],
             [
              0.2222222222222222,
              "#7201a8"
             ],
             [
              0.3333333333333333,
              "#9c179e"
             ],
             [
              0.4444444444444444,
              "#bd3786"
             ],
             [
              0.5555555555555556,
              "#d8576b"
             ],
             [
              0.6666666666666666,
              "#ed7953"
             ],
             [
              0.7777777777777778,
              "#fb9f3a"
             ],
             [
              0.8888888888888888,
              "#fdca26"
             ],
             [
              1,
              "#f0f921"
             ]
            ],
            "type": "surface"
           }
          ],
          "table": [
           {
            "cells": {
             "fill": {
              "color": "#EBF0F8"
             },
             "line": {
              "color": "white"
             }
            },
            "header": {
             "fill": {
              "color": "#C8D4E3"
             },
             "line": {
              "color": "white"
             }
            },
            "type": "table"
           }
          ]
         },
         "layout": {
          "annotationdefaults": {
           "arrowcolor": "#2a3f5f",
           "arrowhead": 0,
           "arrowwidth": 1
          },
          "autotypenumbers": "strict",
          "coloraxis": {
           "colorbar": {
            "outlinewidth": 0,
            "ticks": ""
           }
          },
          "colorscale": {
           "diverging": [
            [
             0,
             "#8e0152"
            ],
            [
             0.1,
             "#c51b7d"
            ],
            [
             0.2,
             "#de77ae"
            ],
            [
             0.3,
             "#f1b6da"
            ],
            [
             0.4,
             "#fde0ef"
            ],
            [
             0.5,
             "#f7f7f7"
            ],
            [
             0.6,
             "#e6f5d0"
            ],
            [
             0.7,
             "#b8e186"
            ],
            [
             0.8,
             "#7fbc41"
            ],
            [
             0.9,
             "#4d9221"
            ],
            [
             1,
             "#276419"
            ]
           ],
           "sequential": [
            [
             0,
             "#0d0887"
            ],
            [
             0.1111111111111111,
             "#46039f"
            ],
            [
             0.2222222222222222,
             "#7201a8"
            ],
            [
             0.3333333333333333,
             "#9c179e"
            ],
            [
             0.4444444444444444,
             "#bd3786"
            ],
            [
             0.5555555555555556,
             "#d8576b"
            ],
            [
             0.6666666666666666,
             "#ed7953"
            ],
            [
             0.7777777777777778,
             "#fb9f3a"
            ],
            [
             0.8888888888888888,
             "#fdca26"
            ],
            [
             1,
             "#f0f921"
            ]
           ],
           "sequentialminus": [
            [
             0,
             "#0d0887"
            ],
            [
             0.1111111111111111,
             "#46039f"
            ],
            [
             0.2222222222222222,
             "#7201a8"
            ],
            [
             0.3333333333333333,
             "#9c179e"
            ],
            [
             0.4444444444444444,
             "#bd3786"
            ],
            [
             0.5555555555555556,
             "#d8576b"
            ],
            [
             0.6666666666666666,
             "#ed7953"
            ],
            [
             0.7777777777777778,
             "#fb9f3a"
            ],
            [
             0.8888888888888888,
             "#fdca26"
            ],
            [
             1,
             "#f0f921"
            ]
           ]
          },
          "colorway": [
           "#636efa",
           "#EF553B",
           "#00cc96",
           "#ab63fa",
           "#FFA15A",
           "#19d3f3",
           "#FF6692",
           "#B6E880",
           "#FF97FF",
           "#FECB52"
          ],
          "font": {
           "color": "#2a3f5f"
          },
          "geo": {
           "bgcolor": "white",
           "lakecolor": "white",
           "landcolor": "#E5ECF6",
           "showlakes": true,
           "showland": true,
           "subunitcolor": "white"
          },
          "hoverlabel": {
           "align": "left"
          },
          "hovermode": "closest",
          "mapbox": {
           "style": "light"
          },
          "paper_bgcolor": "white",
          "plot_bgcolor": "#E5ECF6",
          "polar": {
           "angularaxis": {
            "gridcolor": "white",
            "linecolor": "white",
            "ticks": ""
           },
           "bgcolor": "#E5ECF6",
           "radialaxis": {
            "gridcolor": "white",
            "linecolor": "white",
            "ticks": ""
           }
          },
          "scene": {
           "xaxis": {
            "backgroundcolor": "#E5ECF6",
            "gridcolor": "white",
            "gridwidth": 2,
            "linecolor": "white",
            "showbackground": true,
            "ticks": "",
            "zerolinecolor": "white"
           },
           "yaxis": {
            "backgroundcolor": "#E5ECF6",
            "gridcolor": "white",
            "gridwidth": 2,
            "linecolor": "white",
            "showbackground": true,
            "ticks": "",
            "zerolinecolor": "white"
           },
           "zaxis": {
            "backgroundcolor": "#E5ECF6",
            "gridcolor": "white",
            "gridwidth": 2,
            "linecolor": "white",
            "showbackground": true,
            "ticks": "",
            "zerolinecolor": "white"
           }
          },
          "shapedefaults": {
           "line": {
            "color": "#2a3f5f"
           }
          },
          "ternary": {
           "aaxis": {
            "gridcolor": "white",
            "linecolor": "white",
            "ticks": ""
           },
           "baxis": {
            "gridcolor": "white",
            "linecolor": "white",
            "ticks": ""
           },
           "bgcolor": "#E5ECF6",
           "caxis": {
            "gridcolor": "white",
            "linecolor": "white",
            "ticks": ""
           }
          },
          "title": {
           "x": 0.05
          },
          "xaxis": {
           "automargin": true,
           "gridcolor": "white",
           "linecolor": "white",
           "ticks": "",
           "title": {
            "standoff": 15
           },
           "zerolinecolor": "white",
           "zerolinewidth": 2
          },
          "yaxis": {
           "automargin": true,
           "gridcolor": "white",
           "linecolor": "white",
           "ticks": "",
           "title": {
            "standoff": 15
           },
           "zerolinecolor": "white",
           "zerolinewidth": 2
          }
         }
        },
        "xaxis": {
         "anchor": "y",
         "domain": [
          0,
          0.98
         ],
         "title": {}
        },
        "yaxis": {
         "anchor": "x",
         "domain": [
          0,
          1
         ],
         "title": {
          "text": "value"
         }
        }
       }
      }
     },
     "metadata": {},
     "output_type": "display_data"
    }
   ],
   "source": [
    "from skchange.datasets import generate_alternating_data\n",
    "from utils import plot_multivariate_time_series, add_changepoint_vlines\n",
    "\n",
    "from skchange.change_detectors import MovingWindow\n",
    "\n",
    "df = generate_alternating_data(n_segments=10, segment_length=50, mean=5, random_state=1)\n",
    "\n",
    "detector = MovingWindow(bandwidth=15)\n",
    "cpts = detector.fit_predict(df)\n",
    "\n",
    "cpt_fig = plot_multivariate_time_series(df)\n",
    "cpt_fig = add_changepoint_vlines(cpt_fig, cpts)\n",
    "cpt_fig.update_layout(\n",
    "    showlegend=False, xaxis_title=None\n",
    ")\n",
    "cpt_fig.show()"
   ]
  },
  {
   "cell_type": "markdown",
   "metadata": {},
   "source": [
    "### 1.4 `sktime` integrates the time series modelling ecosystem!\n",
    "\n",
    "the package space for time series is highly fragmented:\n",
    "\n",
    "* lots of great implementations and methods out there!\n",
    "* but many different interfaces, not composable like `sklearn`\n",
    "\n",
    "<img src=\"./img/ts-fragmentation.png\" alt=\"The fragmented time series ecosystem\" style=\"width: 100%; max-width: 1200px;\">"
   ]
  },
  {
   "cell_type": "markdown",
   "metadata": {},
   "source": [
    "\n",
    "`sktime` integrates the ecosystem - in friendly collaboration with all the packages out there!\n",
    "\n",
    "<img src=\"./img/sktime-interoperable.png\" alt=\"sktime integration\" style=\"width: 100%; max-width: 1200px;\">"
   ]
  },
  {
   "cell_type": "markdown",
   "metadata": {},
   "source": [
    "<img src=\"./img/sktime-composable.png\" alt=\"sktime composition\" style=\"width: 100%; max-width: 1200px;\">"
   ]
  },
  {
   "cell_type": "markdown",
   "metadata": {},
   "source": [
    "easy search for plug&play components across the ecosystem!\n",
    "\n",
    "Try the [`sktime` estimator search](https://www.sktime.net/en/latest/estimator_overview.html)\n",
    "\n",
    "<img src=\"./img/estimator-search.png\" alt=\"sktime estimator search\" style=\"width: 100%; max-width: 1200px;\">"
   ]
  },
  {
   "cell_type": "markdown",
   "metadata": {},
   "source": [
    "### 1.5 `skchange` - fast change and anomaly detection in time series\n",
    "\n",
    "A 2nd party extension to `sktime`s maturing detection module.\n",
    "\n",
    "* **Fast**: Numba is used for performance.\n",
    "* **Easy to use**: Follows the conventions of sktime and scikit-learn.\n",
    "* **Easy to extend**: \n",
    "\n",
    "  - Make your own detectors by inheriting from the base class templates. \n",
    "  - Create custom detection scores and cost functions.\n",
    "* **Segment anomaly detection**: Detect intervals of anomalous behaviour in time series data.\n",
    "* **Subset anomaly detection**: Detect intervals of anomalous behaviour in time series data, and infer the subset of variables that cause the anomaly."
   ]
  },
  {
   "cell_type": "markdown",
   "metadata": {},
   "source": [
    "### 1.6 Summary/What is next!\n",
    "\n",
    "- `sklearn` interface: unified interface (strategy pattern), modular, composition stable, easy specification language\n",
    "- `sktime` evolves the interface for time series learning tasks\n",
    "- `sktime` integrates a fragmented ecosytem with interface, composability, dependency management\n",
    "- `skchange` extends `sktime` with fast and up-to-date change and anomaly detection methods\n",
    "\n",
    "- Next:\n",
    "    * general detection intro (50 min)\n",
    "    * advanced detection patterns (20 min)\n",
    "    * use case/competition (10 min)"
   ]
  },
  {
   "cell_type": "markdown",
   "metadata": {},
   "source": [
    "---\n",
    "### Credits: notebook 1 - `skchange` and `sktime` intro\n",
    "\n",
    "notebook creation: fkiraly, tveten\n",
    "\n",
    "some vignettes based on existing `sktime` tutorials, credit: fkiraly, miraep8, marrov\n",
    "\n",
    "slides (png/jpg):\n",
    "\n",
    "* from fkiraly's postgraduate course at UCL, Principles and Patterns in Data Scientific Software Engineering\n",
    "* ecosystem slide: fkiraly, mloning\n",
    "* learning tasks: fkiraly, mloning\n",
    "\n",
    "General credit also to `sklearn`, `sktime` and `skchange` contributors"
   ]
  },
  {
   "cell_type": "markdown",
   "metadata": {},
   "source": []
  }
 ],
 "metadata": {
  "kernelspec": {
   "display_name": ".venv",
   "language": "python",
   "name": "python3"
  },
  "language_info": {
   "codemirror_mode": {
    "name": "ipython",
    "version": 3
   },
   "file_extension": ".py",
   "mimetype": "text/x-python",
   "name": "python",
   "nbconvert_exporter": "python",
   "pygments_lexer": "ipython3",
   "version": "3.12.10"
  }
 },
 "nbformat": 4,
 "nbformat_minor": 2
}
